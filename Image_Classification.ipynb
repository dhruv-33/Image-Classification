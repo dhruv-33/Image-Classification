{
  "nbformat": 4,
  "nbformat_minor": 0,
  "metadata": {
    "colab": {
      "provenance": [],
      "mount_file_id": "16kLGkbWFe6PV0khhJJZ_Grxwvv0gc-V6",
      "authorship_tag": "ABX9TyOgg/Qby9fBKBdKfY/qKwCh",
      "include_colab_link": true
    },
    "kernelspec": {
      "name": "python3",
      "display_name": "Python 3"
    },
    "language_info": {
      "name": "python"
    }
  },
  "cells": [
    {
      "cell_type": "markdown",
      "metadata": {
        "id": "view-in-github",
        "colab_type": "text"
      },
      "source": [
        "<a href=\"https://colab.research.google.com/github/dhruv-33/Image-Classification/blob/main/Image_Classification.ipynb\" target=\"_parent\"><img src=\"https://colab.research.google.com/assets/colab-badge.svg\" alt=\"Open In Colab\"/></a>"
      ]
    },
    {
      "cell_type": "code",
      "source": [
        "import tensorflow as tf"
      ],
      "metadata": {
        "id": "yb296ZastRS0"
      },
      "execution_count": null,
      "outputs": []
    },
    {
      "cell_type": "code",
      "source": [
        "import keras"
      ],
      "metadata": {
        "id": "JIvjH2eot0r4"
      },
      "execution_count": null,
      "outputs": []
    },
    {
      "cell_type": "code",
      "source": [
        "from keras._tf_keras.keras.preprocessing.image import ImageDataGenerator"
      ],
      "metadata": {
        "id": "Mf68eE2jt3iS"
      },
      "execution_count": null,
      "outputs": []
    },
    {
      "cell_type": "code",
      "source": [
        "train_datagen1 = ImageDataGenerator(rescale = 1./255, shear_range = 0.2, zoom_range = 0.2, horizontal_flip = True)"
      ],
      "metadata": {
        "id": "giOHrnbYuGmg"
      },
      "execution_count": null,
      "outputs": []
    },
    {
      "cell_type": "code",
      "source": [
        "!unzip \"/content/drive/MyDrive/dataset.zip\" -d \"/usr/local/dataset\""
      ],
      "metadata": {
        "id": "1CUkggiZuiHz",
        "colab": {
          "base_uri": "https://localhost:8080/"
        },
        "collapsed": true,
        "outputId": "20d1838d-cce3-498f-bdd0-1e7ede3bd792"
      },
      "execution_count": null,
      "outputs": [
        {
          "output_type": "stream",
          "name": "stdout",
          "text": [
            "Archive:  /content/drive/MyDrive/dataset.zip\n",
            "  inflating: /usr/local/dataset/test/cats/cat_1.jpg  \n",
            "  inflating: /usr/local/dataset/test/cats/cat_106.jpg  \n",
            "  inflating: /usr/local/dataset/test/cats/cat_109.jpg  \n",
            "  inflating: /usr/local/dataset/test/cats/cat_113.jpg  \n",
            "  inflating: /usr/local/dataset/test/cats/cat_114.jpg  \n",
            "  inflating: /usr/local/dataset/test/cats/cat_116.jpg  \n",
            "  inflating: /usr/local/dataset/test/cats/cat_118.jpg  \n",
            "  inflating: /usr/local/dataset/test/cats/cat_119.jpg  \n",
            "  inflating: /usr/local/dataset/test/cats/cat_124.jpg  \n",
            "  inflating: /usr/local/dataset/test/cats/cat_140.jpg  \n",
            "  inflating: /usr/local/dataset/test/cats/cat_147.jpg  \n",
            "  inflating: /usr/local/dataset/test/cats/cat_156.jpg  \n",
            "  inflating: /usr/local/dataset/test/cats/cat_158.jpg  \n",
            "  inflating: /usr/local/dataset/test/cats/cat_162.jpg  \n",
            "  inflating: /usr/local/dataset/test/cats/cat_18.jpg  \n",
            "  inflating: /usr/local/dataset/test/cats/cat_190.jpg  \n",
            "  inflating: /usr/local/dataset/test/cats/cat_203.jpg  \n",
            "  inflating: /usr/local/dataset/test/cats/cat_223.jpg  \n",
            "  inflating: /usr/local/dataset/test/cats/cat_234.jpg  \n",
            "  inflating: /usr/local/dataset/test/cats/cat_244.jpg  \n",
            "  inflating: /usr/local/dataset/test/cats/cat_251.jpg  \n",
            "  inflating: /usr/local/dataset/test/cats/cat_255.jpg  \n",
            "  inflating: /usr/local/dataset/test/cats/cat_268.jpg  \n",
            "  inflating: /usr/local/dataset/test/cats/cat_279.jpg  \n",
            "  inflating: /usr/local/dataset/test/cats/cat_281.jpg  \n",
            "  inflating: /usr/local/dataset/test/cats/cat_290.jpg  \n",
            "  inflating: /usr/local/dataset/test/cats/cat_306.jpg  \n",
            "  inflating: /usr/local/dataset/test/cats/cat_313.jpg  \n",
            "  inflating: /usr/local/dataset/test/cats/cat_332.jpg  \n",
            "  inflating: /usr/local/dataset/test/cats/cat_341.jpg  \n",
            "  inflating: /usr/local/dataset/test/cats/cat_342.jpg  \n",
            "  inflating: /usr/local/dataset/test/cats/cat_355.jpg  \n",
            "  inflating: /usr/local/dataset/test/cats/cat_358.jpg  \n",
            "  inflating: /usr/local/dataset/test/cats/cat_371.jpg  \n",
            "  inflating: /usr/local/dataset/test/cats/cat_375.jpg  \n",
            "  inflating: /usr/local/dataset/test/cats/cat_384.jpg  \n",
            "  inflating: /usr/local/dataset/test/cats/cat_395.jpg  \n",
            "  inflating: /usr/local/dataset/test/cats/cat_417.jpg  \n",
            "  inflating: /usr/local/dataset/test/cats/cat_418.jpg  \n",
            "  inflating: /usr/local/dataset/test/cats/cat_422.jpg  \n",
            "  inflating: /usr/local/dataset/test/cats/cat_430.jpg  \n",
            "  inflating: /usr/local/dataset/test/cats/cat_433.jpg  \n",
            "  inflating: /usr/local/dataset/test/cats/cat_446.jpg  \n",
            "  inflating: /usr/local/dataset/test/cats/cat_464.jpg  \n",
            "  inflating: /usr/local/dataset/test/cats/cat_468.jpg  \n",
            "  inflating: /usr/local/dataset/test/cats/cat_473.jpg  \n",
            "  inflating: /usr/local/dataset/test/cats/cat_496.jpg  \n",
            "  inflating: /usr/local/dataset/test/cats/cat_5.jpg  \n",
            "  inflating: /usr/local/dataset/test/cats/cat_504.jpg  \n",
            "  inflating: /usr/local/dataset/test/cats/cat_520.jpg  \n",
            "  inflating: /usr/local/dataset/test/cats/cat_523.jpg  \n",
            "  inflating: /usr/local/dataset/test/cats/cat_525.jpg  \n",
            "  inflating: /usr/local/dataset/test/cats/cat_528.jpg  \n",
            "  inflating: /usr/local/dataset/test/cats/cat_538.jpg  \n",
            "  inflating: /usr/local/dataset/test/cats/cat_542.jpg  \n",
            "  inflating: /usr/local/dataset/test/cats/cat_545.jpg  \n",
            "  inflating: /usr/local/dataset/test/cats/cat_551.jpg  \n",
            "  inflating: /usr/local/dataset/test/cats/cat_56.jpg  \n",
            "  inflating: /usr/local/dataset/test/cats/cat_564.jpg  \n",
            "  inflating: /usr/local/dataset/test/cats/cat_574.jpg  \n",
            "  inflating: /usr/local/dataset/test/cats/cat_575.jpg  \n",
            "  inflating: /usr/local/dataset/test/cats/cat_583.jpg  \n",
            "  inflating: /usr/local/dataset/test/cats/cat_585.jpg  \n",
            "  inflating: /usr/local/dataset/test/cats/cat_586.jpg  \n",
            "  inflating: /usr/local/dataset/test/cats/cat_587.jpg  \n",
            "  inflating: /usr/local/dataset/test/cats/cat_595.jpg  \n",
            "  inflating: /usr/local/dataset/test/cats/cat_60.jpg  \n",
            "  inflating: /usr/local/dataset/test/cats/cat_88.jpg  \n",
            "  inflating: /usr/local/dataset/test/cats/cat_94.jpg  \n",
            "  inflating: /usr/local/dataset/test/cats/cat_96.jpg  \n",
            "  inflating: /usr/local/dataset/test/dogs/dog_114.jpg  \n",
            "  inflating: /usr/local/dataset/test/dogs/dog_123.jpg  \n",
            "  inflating: /usr/local/dataset/test/dogs/dog_124.jpg  \n",
            "  inflating: /usr/local/dataset/test/dogs/dog_130.jpg  \n",
            "  inflating: /usr/local/dataset/test/dogs/dog_141.jpg  \n",
            "  inflating: /usr/local/dataset/test/dogs/dog_142.jpg  \n",
            "  inflating: /usr/local/dataset/test/dogs/dog_147.jpg  \n",
            "  inflating: /usr/local/dataset/test/dogs/dog_150.jpg  \n",
            "  inflating: /usr/local/dataset/test/dogs/dog_155.jpg  \n",
            "  inflating: /usr/local/dataset/test/dogs/dog_159.jpg  \n",
            "  inflating: /usr/local/dataset/test/dogs/dog_168.jpg  \n",
            "  inflating: /usr/local/dataset/test/dogs/dog_173.jpg  \n",
            "  inflating: /usr/local/dataset/test/dogs/dog_177.jpg  \n",
            "  inflating: /usr/local/dataset/test/dogs/dog_181.jpg  \n",
            "  inflating: /usr/local/dataset/test/dogs/dog_191.jpg  \n",
            "  inflating: /usr/local/dataset/test/dogs/dog_194.jpg  \n",
            "  inflating: /usr/local/dataset/test/dogs/dog_196.jpg  \n",
            "  inflating: /usr/local/dataset/test/dogs/dog_197.jpg  \n",
            "  inflating: /usr/local/dataset/test/dogs/dog_211.jpg  \n",
            "  inflating: /usr/local/dataset/test/dogs/dog_213.jpg  \n",
            "  inflating: /usr/local/dataset/test/dogs/dog_219.jpg  \n",
            "  inflating: /usr/local/dataset/test/dogs/dog_227.jpg  \n",
            "  inflating: /usr/local/dataset/test/dogs/dog_229.jpg  \n",
            "  inflating: /usr/local/dataset/test/dogs/dog_236.jpg  \n",
            "  inflating: /usr/local/dataset/test/dogs/dog_237.jpg  \n",
            "  inflating: /usr/local/dataset/test/dogs/dog_240.jpg  \n",
            "  inflating: /usr/local/dataset/test/dogs/dog_244.jpg  \n",
            "  inflating: /usr/local/dataset/test/dogs/dog_258.jpg  \n",
            "  inflating: /usr/local/dataset/test/dogs/dog_28.jpg  \n",
            "  inflating: /usr/local/dataset/test/dogs/dog_283.jpg  \n",
            "  inflating: /usr/local/dataset/test/dogs/dog_302.jpg  \n",
            "  inflating: /usr/local/dataset/test/dogs/dog_303.jpg  \n",
            "  inflating: /usr/local/dataset/test/dogs/dog_313.jpg  \n",
            "  inflating: /usr/local/dataset/test/dogs/dog_327.jpg  \n",
            "  inflating: /usr/local/dataset/test/dogs/dog_344.jpg  \n",
            "  inflating: /usr/local/dataset/test/dogs/dog_354.jpg  \n",
            "  inflating: /usr/local/dataset/test/dogs/dog_355.jpg  \n",
            "  inflating: /usr/local/dataset/test/dogs/dog_360.jpg  \n",
            "  inflating: /usr/local/dataset/test/dogs/dog_364.jpg  \n",
            "  inflating: /usr/local/dataset/test/dogs/dog_369.jpg  \n",
            "  inflating: /usr/local/dataset/test/dogs/dog_377.jpg  \n",
            "  inflating: /usr/local/dataset/test/dogs/dog_380.jpg  \n",
            "  inflating: /usr/local/dataset/test/dogs/dog_398.jpg  \n",
            "  inflating: /usr/local/dataset/test/dogs/dog_415.jpg  \n",
            "  inflating: /usr/local/dataset/test/dogs/dog_421.jpg  \n",
            "  inflating: /usr/local/dataset/test/dogs/dog_43.jpg  \n",
            "  inflating: /usr/local/dataset/test/dogs/dog_44.jpg  \n",
            "  inflating: /usr/local/dataset/test/dogs/dog_442.jpg  \n",
            "  inflating: /usr/local/dataset/test/dogs/dog_443.jpg  \n",
            "  inflating: /usr/local/dataset/test/dogs/dog_461.jpg  \n",
            "  inflating: /usr/local/dataset/test/dogs/dog_462.jpg  \n",
            "  inflating: /usr/local/dataset/test/dogs/dog_464.jpg  \n",
            "  inflating: /usr/local/dataset/test/dogs/dog_472.jpg  \n",
            "  inflating: /usr/local/dataset/test/dogs/dog_476.jpg  \n",
            "  inflating: /usr/local/dataset/test/dogs/dog_482.jpg  \n",
            "  inflating: /usr/local/dataset/test/dogs/dog_517.jpg  \n",
            "  inflating: /usr/local/dataset/test/dogs/dog_518.jpg  \n",
            "  inflating: /usr/local/dataset/test/dogs/dog_519.jpg  \n",
            "  inflating: /usr/local/dataset/test/dogs/dog_520.jpg  \n",
            "  inflating: /usr/local/dataset/test/dogs/dog_521.jpg  \n",
            "  inflating: /usr/local/dataset/test/dogs/dog_522.jpg  \n",
            "  inflating: /usr/local/dataset/test/dogs/dog_528.jpg  \n",
            "  inflating: /usr/local/dataset/test/dogs/dog_534.jpg  \n",
            "  inflating: /usr/local/dataset/test/dogs/dog_536.jpg  \n",
            "  inflating: /usr/local/dataset/test/dogs/dog_551.jpg  \n",
            "  inflating: /usr/local/dataset/test/dogs/dog_563.jpg  \n",
            "  inflating: /usr/local/dataset/test/dogs/dog_59.jpg  \n",
            "  inflating: /usr/local/dataset/test/dogs/dog_68.jpg  \n",
            "  inflating: /usr/local/dataset/test/dogs/dog_75.jpg  \n",
            "  inflating: /usr/local/dataset/test/dogs/dog_89.jpg  \n",
            "  inflating: /usr/local/dataset/train/cats/cat_10.jpg  \n",
            "  inflating: /usr/local/dataset/train/cats/cat_100.jpg  \n",
            "  inflating: /usr/local/dataset/train/cats/cat_101.jpg  \n",
            "  inflating: /usr/local/dataset/train/cats/cat_102.jpg  \n",
            "  inflating: /usr/local/dataset/train/cats/cat_103.jpg  \n",
            "  inflating: /usr/local/dataset/train/cats/cat_104.jpg  \n",
            "  inflating: /usr/local/dataset/train/cats/cat_11.jpg  \n",
            "  inflating: /usr/local/dataset/train/cats/cat_111.jpg  \n",
            "  inflating: /usr/local/dataset/train/cats/cat_12.jpg  \n",
            "  inflating: /usr/local/dataset/train/cats/cat_120.jpg  \n",
            "  inflating: /usr/local/dataset/train/cats/cat_123.jpg  \n",
            "  inflating: /usr/local/dataset/train/cats/cat_129.jpg  \n",
            "  inflating: /usr/local/dataset/train/cats/cat_13.jpg  \n",
            "  inflating: /usr/local/dataset/train/cats/cat_132.jpg  \n",
            "  inflating: /usr/local/dataset/train/cats/cat_133.jpg  \n",
            "  inflating: /usr/local/dataset/train/cats/cat_134.jpg  \n",
            "  inflating: /usr/local/dataset/train/cats/cat_137.jpg  \n",
            "  inflating: /usr/local/dataset/train/cats/cat_138.jpg  \n",
            "  inflating: /usr/local/dataset/train/cats/cat_139.jpg  \n",
            "  inflating: /usr/local/dataset/train/cats/cat_14.jpg  \n",
            "  inflating: /usr/local/dataset/train/cats/cat_141.jpg  \n",
            "  inflating: /usr/local/dataset/train/cats/cat_146.jpg  \n",
            "  inflating: /usr/local/dataset/train/cats/cat_148.jpg  \n",
            "  inflating: /usr/local/dataset/train/cats/cat_149.jpg  \n",
            "  inflating: /usr/local/dataset/train/cats/cat_15.jpg  \n",
            "  inflating: /usr/local/dataset/train/cats/cat_151.jpg  \n",
            "  inflating: /usr/local/dataset/train/cats/cat_152.jpg  \n",
            "  inflating: /usr/local/dataset/train/cats/cat_153.jpg  \n",
            "  inflating: /usr/local/dataset/train/cats/cat_159.jpg  \n",
            "  inflating: /usr/local/dataset/train/cats/cat_16.jpg  \n",
            "  inflating: /usr/local/dataset/train/cats/cat_160.jpg  \n",
            "  inflating: /usr/local/dataset/train/cats/cat_161.jpg  \n",
            "  inflating: /usr/local/dataset/train/cats/cat_163.jpg  \n",
            "  inflating: /usr/local/dataset/train/cats/cat_164.jpg  \n",
            "  inflating: /usr/local/dataset/train/cats/cat_165.jpg  \n",
            "  inflating: /usr/local/dataset/train/cats/cat_168.jpg  \n",
            "  inflating: /usr/local/dataset/train/cats/cat_169.jpg  \n",
            "  inflating: /usr/local/dataset/train/cats/cat_170.jpg  \n",
            "  inflating: /usr/local/dataset/train/cats/cat_172.jpg  \n",
            "  inflating: /usr/local/dataset/train/cats/cat_177.jpg  \n",
            "  inflating: /usr/local/dataset/train/cats/cat_179.jpg  \n",
            "  inflating: /usr/local/dataset/train/cats/cat_180.jpg  \n",
            "  inflating: /usr/local/dataset/train/cats/cat_183.jpg  \n",
            "  inflating: /usr/local/dataset/train/cats/cat_184.jpg  \n",
            "  inflating: /usr/local/dataset/train/cats/cat_189.jpg  \n",
            "  inflating: /usr/local/dataset/train/cats/cat_191.jpg  \n",
            "  inflating: /usr/local/dataset/train/cats/cat_194.jpg  \n",
            "  inflating: /usr/local/dataset/train/cats/cat_195.jpg  \n",
            "  inflating: /usr/local/dataset/train/cats/cat_198.jpg  \n",
            "  inflating: /usr/local/dataset/train/cats/cat_2.jpg  \n",
            "  inflating: /usr/local/dataset/train/cats/cat_200.jpg  \n",
            "  inflating: /usr/local/dataset/train/cats/cat_201.jpg  \n",
            "  inflating: /usr/local/dataset/train/cats/cat_202.jpg  \n",
            "  inflating: /usr/local/dataset/train/cats/cat_207.jpg  \n",
            "  inflating: /usr/local/dataset/train/cats/cat_208.jpg  \n",
            "  inflating: /usr/local/dataset/train/cats/cat_209.jpg  \n",
            "  inflating: /usr/local/dataset/train/cats/cat_21.jpg  \n",
            "  inflating: /usr/local/dataset/train/cats/cat_211.jpg  \n",
            "  inflating: /usr/local/dataset/train/cats/cat_213.jpg  \n",
            "  inflating: /usr/local/dataset/train/cats/cat_214.jpg  \n",
            "  inflating: /usr/local/dataset/train/cats/cat_215.jpg  \n",
            "  inflating: /usr/local/dataset/train/cats/cat_217.jpg  \n",
            "  inflating: /usr/local/dataset/train/cats/cat_218.jpg  \n",
            "  inflating: /usr/local/dataset/train/cats/cat_219.jpg  \n",
            "  inflating: /usr/local/dataset/train/cats/cat_220.jpg  \n",
            "  inflating: /usr/local/dataset/train/cats/cat_221.jpg  \n",
            "  inflating: /usr/local/dataset/train/cats/cat_222.jpg  \n",
            "  inflating: /usr/local/dataset/train/cats/cat_224.jpg  \n",
            "  inflating: /usr/local/dataset/train/cats/cat_225.jpg  \n",
            "  inflating: /usr/local/dataset/train/cats/cat_227.jpg  \n",
            "  inflating: /usr/local/dataset/train/cats/cat_228.jpg  \n",
            "  inflating: /usr/local/dataset/train/cats/cat_229.jpg  \n",
            "  inflating: /usr/local/dataset/train/cats/cat_230.jpg  \n",
            "  inflating: /usr/local/dataset/train/cats/cat_232.jpg  \n",
            "  inflating: /usr/local/dataset/train/cats/cat_235.jpg  \n",
            "  inflating: /usr/local/dataset/train/cats/cat_238.jpg  \n",
            "  inflating: /usr/local/dataset/train/cats/cat_24.jpg  \n",
            "  inflating: /usr/local/dataset/train/cats/cat_240.jpg  \n",
            "  inflating: /usr/local/dataset/train/cats/cat_243.jpg  \n",
            "  inflating: /usr/local/dataset/train/cats/cat_246.jpg  \n",
            "  inflating: /usr/local/dataset/train/cats/cat_247.jpg  \n",
            "  inflating: /usr/local/dataset/train/cats/cat_248.jpg  \n",
            "  inflating: /usr/local/dataset/train/cats/cat_253.jpg  \n",
            "  inflating: /usr/local/dataset/train/cats/cat_257.jpg  \n",
            "  inflating: /usr/local/dataset/train/cats/cat_26.jpg  \n",
            "  inflating: /usr/local/dataset/train/cats/cat_260.jpg  \n",
            "  inflating: /usr/local/dataset/train/cats/cat_261.jpg  \n",
            "  inflating: /usr/local/dataset/train/cats/cat_263.jpg  \n",
            "  inflating: /usr/local/dataset/train/cats/cat_265.jpg  \n",
            "  inflating: /usr/local/dataset/train/cats/cat_269.jpg  \n",
            "  inflating: /usr/local/dataset/train/cats/cat_27.jpg  \n",
            "  inflating: /usr/local/dataset/train/cats/cat_270.jpg  \n",
            "  inflating: /usr/local/dataset/train/cats/cat_271.jpg  \n",
            "  inflating: /usr/local/dataset/train/cats/cat_273.jpg  \n",
            "  inflating: /usr/local/dataset/train/cats/cat_274.jpg  \n",
            "  inflating: /usr/local/dataset/train/cats/cat_275.jpg  \n",
            "  inflating: /usr/local/dataset/train/cats/cat_276.jpg  \n",
            "  inflating: /usr/local/dataset/train/cats/cat_280.jpg  \n",
            "  inflating: /usr/local/dataset/train/cats/cat_284.jpg  \n",
            "  inflating: /usr/local/dataset/train/cats/cat_285.jpg  \n",
            "  inflating: /usr/local/dataset/train/cats/cat_289.jpg  \n",
            "  inflating: /usr/local/dataset/train/cats/cat_292.jpg  \n",
            "  inflating: /usr/local/dataset/train/cats/cat_293.jpg  \n",
            "  inflating: /usr/local/dataset/train/cats/cat_297.jpg  \n",
            "  inflating: /usr/local/dataset/train/cats/cat_298.jpg  \n",
            "  inflating: /usr/local/dataset/train/cats/cat_3.jpg  \n",
            "  inflating: /usr/local/dataset/train/cats/cat_303.jpg  \n",
            "  inflating: /usr/local/dataset/train/cats/cat_304.jpg  \n",
            "  inflating: /usr/local/dataset/train/cats/cat_307.jpg  \n",
            "  inflating: /usr/local/dataset/train/cats/cat_310.jpg  \n",
            "  inflating: /usr/local/dataset/train/cats/cat_311.jpg  \n",
            "  inflating: /usr/local/dataset/train/cats/cat_316.jpg  \n",
            "  inflating: /usr/local/dataset/train/cats/cat_317.jpg  \n",
            "  inflating: /usr/local/dataset/train/cats/cat_318.jpg  \n",
            "  inflating: /usr/local/dataset/train/cats/cat_320.jpg  \n",
            "  inflating: /usr/local/dataset/train/cats/cat_321.jpg  \n",
            "  inflating: /usr/local/dataset/train/cats/cat_325.jpg  \n",
            "  inflating: /usr/local/dataset/train/cats/cat_327.jpg  \n",
            "  inflating: /usr/local/dataset/train/cats/cat_329.jpg  \n",
            "  inflating: /usr/local/dataset/train/cats/cat_33.jpg  \n",
            "  inflating: /usr/local/dataset/train/cats/cat_330.jpg  \n",
            "  inflating: /usr/local/dataset/train/cats/cat_331.jpg  \n",
            "  inflating: /usr/local/dataset/train/cats/cat_333.jpg  \n",
            "  inflating: /usr/local/dataset/train/cats/cat_336.jpg  \n",
            "  inflating: /usr/local/dataset/train/cats/cat_34.jpg  \n",
            "  inflating: /usr/local/dataset/train/cats/cat_343.jpg  \n",
            "  inflating: /usr/local/dataset/train/cats/cat_344.jpg  \n",
            "  inflating: /usr/local/dataset/train/cats/cat_345.jpg  \n",
            "  inflating: /usr/local/dataset/train/cats/cat_348.jpg  \n",
            "  inflating: /usr/local/dataset/train/cats/cat_35.jpg  \n",
            "  inflating: /usr/local/dataset/train/cats/cat_350.jpg  \n",
            "  inflating: /usr/local/dataset/train/cats/cat_351.jpg  \n",
            "  inflating: /usr/local/dataset/train/cats/cat_352.jpg  \n",
            "  inflating: /usr/local/dataset/train/cats/cat_359.jpg  \n",
            "  inflating: /usr/local/dataset/train/cats/cat_361.jpg  \n",
            "  inflating: /usr/local/dataset/train/cats/cat_362.jpg  \n",
            "  inflating: /usr/local/dataset/train/cats/cat_363.jpg  \n",
            "  inflating: /usr/local/dataset/train/cats/cat_367.jpg  \n",
            "  inflating: /usr/local/dataset/train/cats/cat_369.jpg  \n",
            "  inflating: /usr/local/dataset/train/cats/cat_37.jpg  \n",
            "  inflating: /usr/local/dataset/train/cats/cat_370.jpg  \n",
            "  inflating: /usr/local/dataset/train/cats/cat_372.jpg  \n",
            "  inflating: /usr/local/dataset/train/cats/cat_373.jpg  \n",
            "  inflating: /usr/local/dataset/train/cats/cat_376.jpg  \n",
            "  inflating: /usr/local/dataset/train/cats/cat_377.jpg  \n",
            "  inflating: /usr/local/dataset/train/cats/cat_38.jpg  \n",
            "  inflating: /usr/local/dataset/train/cats/cat_380.jpg  \n",
            "  inflating: /usr/local/dataset/train/cats/cat_381.jpg  \n",
            "  inflating: /usr/local/dataset/train/cats/cat_385.jpg  \n",
            "  inflating: /usr/local/dataset/train/cats/cat_386.jpg  \n",
            "  inflating: /usr/local/dataset/train/cats/cat_387.jpg  \n",
            "  inflating: /usr/local/dataset/train/cats/cat_388.jpg  \n",
            "  inflating: /usr/local/dataset/train/cats/cat_39.jpg  \n",
            "  inflating: /usr/local/dataset/train/cats/cat_391.jpg  \n",
            "  inflating: /usr/local/dataset/train/cats/cat_393.jpg  \n",
            "  inflating: /usr/local/dataset/train/cats/cat_396.jpg  \n",
            "  inflating: /usr/local/dataset/train/cats/cat_397.jpg  \n",
            "  inflating: /usr/local/dataset/train/cats/cat_399.jpg  \n",
            "  inflating: /usr/local/dataset/train/cats/cat_4.jpg  \n",
            "  inflating: /usr/local/dataset/train/cats/cat_400.jpg  \n",
            "  inflating: /usr/local/dataset/train/cats/cat_402.jpg  \n",
            "  inflating: /usr/local/dataset/train/cats/cat_403.jpg  \n",
            "  inflating: /usr/local/dataset/train/cats/cat_405.jpg  \n",
            "  inflating: /usr/local/dataset/train/cats/cat_407.jpg  \n",
            "  inflating: /usr/local/dataset/train/cats/cat_408.jpg  \n",
            "  inflating: /usr/local/dataset/train/cats/cat_413.jpg  \n",
            "  inflating: /usr/local/dataset/train/cats/cat_414.jpg  \n",
            "  inflating: /usr/local/dataset/train/cats/cat_416.jpg  \n",
            "  inflating: /usr/local/dataset/train/cats/cat_419.jpg  \n",
            "  inflating: /usr/local/dataset/train/cats/cat_42.jpg  \n",
            "  inflating: /usr/local/dataset/train/cats/cat_420.jpg  \n",
            "  inflating: /usr/local/dataset/train/cats/cat_423.jpg  \n",
            "  inflating: /usr/local/dataset/train/cats/cat_426.jpg  \n",
            "  inflating: /usr/local/dataset/train/cats/cat_427.jpg  \n",
            "  inflating: /usr/local/dataset/train/cats/cat_428.jpg  \n",
            "  inflating: /usr/local/dataset/train/cats/cat_429.jpg  \n",
            "  inflating: /usr/local/dataset/train/cats/cat_43.jpg  \n",
            "  inflating: /usr/local/dataset/train/cats/cat_434.jpg  \n",
            "  inflating: /usr/local/dataset/train/cats/cat_435.jpg  \n",
            "  inflating: /usr/local/dataset/train/cats/cat_438.jpg  \n",
            "  inflating: /usr/local/dataset/train/cats/cat_440.jpg  \n",
            "  inflating: /usr/local/dataset/train/cats/cat_443.jpg  \n",
            "  inflating: /usr/local/dataset/train/cats/cat_445.jpg  \n",
            "  inflating: /usr/local/dataset/train/cats/cat_450.jpg  \n",
            "  inflating: /usr/local/dataset/train/cats/cat_452.jpg  \n",
            "  inflating: /usr/local/dataset/train/cats/cat_453.jpg  \n",
            "  inflating: /usr/local/dataset/train/cats/cat_455.jpg  \n",
            "  inflating: /usr/local/dataset/train/cats/cat_456.jpg  \n",
            "  inflating: /usr/local/dataset/train/cats/cat_46.jpg  \n",
            "  inflating: /usr/local/dataset/train/cats/cat_461.jpg  \n",
            "  inflating: /usr/local/dataset/train/cats/cat_463.jpg  \n",
            "  inflating: /usr/local/dataset/train/cats/cat_465.jpg  \n",
            "  inflating: /usr/local/dataset/train/cats/cat_466.jpg  \n",
            "  inflating: /usr/local/dataset/train/cats/cat_467.jpg  \n",
            "  inflating: /usr/local/dataset/train/cats/cat_469.jpg  \n",
            "  inflating: /usr/local/dataset/train/cats/cat_474.jpg  \n",
            "  inflating: /usr/local/dataset/train/cats/cat_482.jpg  \n",
            "  inflating: /usr/local/dataset/train/cats/cat_483.jpg  \n",
            "  inflating: /usr/local/dataset/train/cats/cat_485.jpg  \n",
            "  inflating: /usr/local/dataset/train/cats/cat_487.jpg  \n",
            "  inflating: /usr/local/dataset/train/cats/cat_489.jpg  \n",
            "  inflating: /usr/local/dataset/train/cats/cat_49.jpg  \n",
            "  inflating: /usr/local/dataset/train/cats/cat_490.jpg  \n",
            "  inflating: /usr/local/dataset/train/cats/cat_492.jpg  \n",
            "  inflating: /usr/local/dataset/train/cats/cat_493.jpg  \n",
            "  inflating: /usr/local/dataset/train/cats/cat_494.jpg  \n",
            "  inflating: /usr/local/dataset/train/cats/cat_495.jpg  \n",
            "  inflating: /usr/local/dataset/train/cats/cat_497.jpg  \n",
            "  inflating: /usr/local/dataset/train/cats/cat_498.jpg  \n",
            "  inflating: /usr/local/dataset/train/cats/cat_499.jpg  \n",
            "  inflating: /usr/local/dataset/train/cats/cat_50.jpg  \n",
            "  inflating: /usr/local/dataset/train/cats/cat_500.jpg  \n",
            "  inflating: /usr/local/dataset/train/cats/cat_505.jpg  \n",
            "  inflating: /usr/local/dataset/train/cats/cat_506.jpg  \n",
            "  inflating: /usr/local/dataset/train/cats/cat_508.jpg  \n",
            "  inflating: /usr/local/dataset/train/cats/cat_510.jpg  \n",
            "  inflating: /usr/local/dataset/train/cats/cat_511.jpg  \n",
            "  inflating: /usr/local/dataset/train/cats/cat_518.jpg  \n",
            "  inflating: /usr/local/dataset/train/cats/cat_519.jpg  \n",
            "  inflating: /usr/local/dataset/train/cats/cat_52.jpg  \n",
            "  inflating: /usr/local/dataset/train/cats/cat_524.jpg  \n",
            "  inflating: /usr/local/dataset/train/cats/cat_526.jpg  \n",
            "  inflating: /usr/local/dataset/train/cats/cat_53.jpg  \n",
            "  inflating: /usr/local/dataset/train/cats/cat_531.jpg  \n",
            "  inflating: /usr/local/dataset/train/cats/cat_532.jpg  \n",
            "  inflating: /usr/local/dataset/train/cats/cat_533.jpg  \n",
            "  inflating: /usr/local/dataset/train/cats/cat_535.jpg  \n",
            "  inflating: /usr/local/dataset/train/cats/cat_536.jpg  \n",
            "  inflating: /usr/local/dataset/train/cats/cat_54.jpg  \n",
            "  inflating: /usr/local/dataset/train/cats/cat_540.jpg  \n",
            "  inflating: /usr/local/dataset/train/cats/cat_543.jpg  \n",
            "  inflating: /usr/local/dataset/train/cats/cat_544.jpg  \n",
            "  inflating: /usr/local/dataset/train/cats/cat_546.jpg  \n",
            "  inflating: /usr/local/dataset/train/cats/cat_547.jpg  \n",
            "  inflating: /usr/local/dataset/train/cats/cat_548.jpg  \n",
            "  inflating: /usr/local/dataset/train/cats/cat_549.jpg  \n",
            "  inflating: /usr/local/dataset/train/cats/cat_553.jpg  \n",
            "  inflating: /usr/local/dataset/train/cats/cat_556.jpg  \n",
            "  inflating: /usr/local/dataset/train/cats/cat_557.jpg  \n",
            "  inflating: /usr/local/dataset/train/cats/cat_558.jpg  \n",
            "  inflating: /usr/local/dataset/train/cats/cat_559.jpg  \n",
            "  inflating: /usr/local/dataset/train/cats/cat_560.jpg  \n",
            "  inflating: /usr/local/dataset/train/cats/cat_565.jpg  \n",
            "  inflating: /usr/local/dataset/train/cats/cat_567.jpg  \n",
            "  inflating: /usr/local/dataset/train/cats/cat_569.jpg  \n",
            "  inflating: /usr/local/dataset/train/cats/cat_570.jpg  \n",
            "  inflating: /usr/local/dataset/train/cats/cat_573.jpg  \n",
            "  inflating: /usr/local/dataset/train/cats/cat_577.jpg  \n",
            "  inflating: /usr/local/dataset/train/cats/cat_58.jpg  \n",
            "  inflating: /usr/local/dataset/train/cats/cat_580.jpg  \n",
            "  inflating: /usr/local/dataset/train/cats/cat_581.jpg  \n",
            "  inflating: /usr/local/dataset/train/cats/cat_589.jpg  \n",
            "  inflating: /usr/local/dataset/train/cats/cat_59.jpg  \n",
            "  inflating: /usr/local/dataset/train/cats/cat_590.jpg  \n",
            "  inflating: /usr/local/dataset/train/cats/cat_591.jpg  \n",
            "  inflating: /usr/local/dataset/train/cats/cat_592.jpg  \n",
            "  inflating: /usr/local/dataset/train/cats/cat_6.jpg  \n",
            "  inflating: /usr/local/dataset/train/cats/cat_601.jpg  \n",
            "  inflating: /usr/local/dataset/train/cats/cat_602.jpg  \n",
            "  inflating: /usr/local/dataset/train/cats/cat_604.jpg  \n",
            "  inflating: /usr/local/dataset/train/cats/cat_605.jpg  \n",
            "  inflating: /usr/local/dataset/train/cats/cat_61.jpg  \n",
            "  inflating: /usr/local/dataset/train/cats/cat_64.jpg  \n",
            "  inflating: /usr/local/dataset/train/cats/cat_66.jpg  \n",
            "  inflating: /usr/local/dataset/train/cats/cat_67.jpg  \n",
            "  inflating: /usr/local/dataset/train/cats/cat_69.jpg  \n",
            "  inflating: /usr/local/dataset/train/cats/cat_70.jpg  \n",
            "  inflating: /usr/local/dataset/train/cats/cat_74.jpg  \n",
            "  inflating: /usr/local/dataset/train/cats/cat_75.jpg  \n",
            "  inflating: /usr/local/dataset/train/cats/cat_77.jpg  \n",
            "  inflating: /usr/local/dataset/train/cats/cat_78.jpg  \n",
            "  inflating: /usr/local/dataset/train/cats/cat_80.jpg  \n",
            "  inflating: /usr/local/dataset/train/cats/cat_84.jpg  \n",
            "  inflating: /usr/local/dataset/train/cats/cat_87.jpg  \n",
            "  inflating: /usr/local/dataset/train/cats/cat_9.jpg  \n",
            "  inflating: /usr/local/dataset/train/cats/cat_93.jpg  \n",
            "  inflating: /usr/local/dataset/train/cats/cat_95.jpg  \n",
            "  inflating: /usr/local/dataset/train/cats/cat_97.jpg  \n",
            "  inflating: /usr/local/dataset/train/cats/cat_98.jpg  \n",
            "  inflating: /usr/local/dataset/train/dogs/dog_0.jpg  \n",
            "  inflating: /usr/local/dataset/train/dogs/dog_10.jpg  \n",
            "  inflating: /usr/local/dataset/train/dogs/dog_100.jpg  \n",
            "  inflating: /usr/local/dataset/train/dogs/dog_102.jpg  \n",
            "  inflating: /usr/local/dataset/train/dogs/dog_103.jpg  \n",
            "  inflating: /usr/local/dataset/train/dogs/dog_106.jpg  \n",
            "  inflating: /usr/local/dataset/train/dogs/dog_109.jpg  \n",
            "  inflating: /usr/local/dataset/train/dogs/dog_11.jpg  \n",
            "  inflating: /usr/local/dataset/train/dogs/dog_110.jpg  \n",
            "  inflating: /usr/local/dataset/train/dogs/dog_113.jpg  \n",
            "  inflating: /usr/local/dataset/train/dogs/dog_116.jpg  \n",
            "  inflating: /usr/local/dataset/train/dogs/dog_120.jpg  \n",
            "  inflating: /usr/local/dataset/train/dogs/dog_122.jpg  \n",
            "  inflating: /usr/local/dataset/train/dogs/dog_125.jpg  \n",
            "  inflating: /usr/local/dataset/train/dogs/dog_128.jpg  \n",
            "  inflating: /usr/local/dataset/train/dogs/dog_129.jpg  \n",
            "  inflating: /usr/local/dataset/train/dogs/dog_13.jpg  \n",
            "  inflating: /usr/local/dataset/train/dogs/dog_133.jpg  \n",
            "  inflating: /usr/local/dataset/train/dogs/dog_136.jpg  \n",
            "  inflating: /usr/local/dataset/train/dogs/dog_138.jpg  \n",
            "  inflating: /usr/local/dataset/train/dogs/dog_139.jpg  \n",
            "  inflating: /usr/local/dataset/train/dogs/dog_140.jpg  \n",
            "  inflating: /usr/local/dataset/train/dogs/dog_144.jpg  \n",
            "  inflating: /usr/local/dataset/train/dogs/dog_145.jpg  \n",
            "  inflating: /usr/local/dataset/train/dogs/dog_15.jpg  \n",
            "  inflating: /usr/local/dataset/train/dogs/dog_151.jpg  \n",
            "  inflating: /usr/local/dataset/train/dogs/dog_152.jpg  \n",
            "  inflating: /usr/local/dataset/train/dogs/dog_154.jpg  \n",
            "  inflating: /usr/local/dataset/train/dogs/dog_156.jpg  \n",
            "  inflating: /usr/local/dataset/train/dogs/dog_162.jpg  \n",
            "  inflating: /usr/local/dataset/train/dogs/dog_164.jpg  \n",
            "  inflating: /usr/local/dataset/train/dogs/dog_165.jpg  \n",
            "  inflating: /usr/local/dataset/train/dogs/dog_167.jpg  \n",
            "  inflating: /usr/local/dataset/train/dogs/dog_171.jpg  \n",
            "  inflating: /usr/local/dataset/train/dogs/dog_175.jpg  \n",
            "  inflating: /usr/local/dataset/train/dogs/dog_178.jpg  \n",
            "  inflating: /usr/local/dataset/train/dogs/dog_182.jpg  \n",
            "  inflating: /usr/local/dataset/train/dogs/dog_186.jpg  \n",
            "  inflating: /usr/local/dataset/train/dogs/dog_188.jpg  \n",
            "  inflating: /usr/local/dataset/train/dogs/dog_192.jpg  \n",
            "  inflating: /usr/local/dataset/train/dogs/dog_193.jpg  \n",
            "  inflating: /usr/local/dataset/train/dogs/dog_195.jpg  \n",
            "  inflating: /usr/local/dataset/train/dogs/dog_199.jpg  \n",
            "  inflating: /usr/local/dataset/train/dogs/dog_200.jpg  \n",
            "  inflating: /usr/local/dataset/train/dogs/dog_202.jpg  \n",
            "  inflating: /usr/local/dataset/train/dogs/dog_203.jpg  \n",
            "  inflating: /usr/local/dataset/train/dogs/dog_204.jpg  \n",
            "  inflating: /usr/local/dataset/train/dogs/dog_205.jpg  \n",
            "  inflating: /usr/local/dataset/train/dogs/dog_206.jpg  \n",
            "  inflating: /usr/local/dataset/train/dogs/dog_207.jpg  \n",
            "  inflating: /usr/local/dataset/train/dogs/dog_208.jpg  \n",
            "  inflating: /usr/local/dataset/train/dogs/dog_209.jpg  \n",
            "  inflating: /usr/local/dataset/train/dogs/dog_21.jpg  \n",
            "  inflating: /usr/local/dataset/train/dogs/dog_212.jpg  \n",
            "  inflating: /usr/local/dataset/train/dogs/dog_214.jpg  \n",
            "  inflating: /usr/local/dataset/train/dogs/dog_216.jpg  \n",
            "  inflating: /usr/local/dataset/train/dogs/dog_217.jpg  \n",
            "  inflating: /usr/local/dataset/train/dogs/dog_218.jpg  \n",
            "  inflating: /usr/local/dataset/train/dogs/dog_22.jpg  \n",
            "  inflating: /usr/local/dataset/train/dogs/dog_220.jpg  \n",
            "  inflating: /usr/local/dataset/train/dogs/dog_221.jpg  \n",
            "  inflating: /usr/local/dataset/train/dogs/dog_224.jpg  \n",
            "  inflating: /usr/local/dataset/train/dogs/dog_226.jpg  \n",
            "  inflating: /usr/local/dataset/train/dogs/dog_23.jpg  \n",
            "  inflating: /usr/local/dataset/train/dogs/dog_230.jpg  \n",
            "  inflating: /usr/local/dataset/train/dogs/dog_231.jpg  \n",
            "  inflating: /usr/local/dataset/train/dogs/dog_232.jpg  \n",
            "  inflating: /usr/local/dataset/train/dogs/dog_234.jpg  \n",
            "  inflating: /usr/local/dataset/train/dogs/dog_238.jpg  \n",
            "  inflating: /usr/local/dataset/train/dogs/dog_239.jpg  \n",
            "  inflating: /usr/local/dataset/train/dogs/dog_241.jpg  \n",
            "  inflating: /usr/local/dataset/train/dogs/dog_243.jpg  \n",
            "  inflating: /usr/local/dataset/train/dogs/dog_247.jpg  \n",
            "  inflating: /usr/local/dataset/train/dogs/dog_249.jpg  \n",
            "  inflating: /usr/local/dataset/train/dogs/dog_251.jpg  \n",
            "  inflating: /usr/local/dataset/train/dogs/dog_253.jpg  \n",
            "  inflating: /usr/local/dataset/train/dogs/dog_256.jpg  \n",
            "  inflating: /usr/local/dataset/train/dogs/dog_259.jpg  \n",
            "  inflating: /usr/local/dataset/train/dogs/dog_26.jpg  \n",
            "  inflating: /usr/local/dataset/train/dogs/dog_260.jpg  \n",
            "  inflating: /usr/local/dataset/train/dogs/dog_261.jpg  \n",
            "  inflating: /usr/local/dataset/train/dogs/dog_262.jpg  \n",
            "  inflating: /usr/local/dataset/train/dogs/dog_266.jpg  \n",
            "  inflating: /usr/local/dataset/train/dogs/dog_267.jpg  \n",
            "  inflating: /usr/local/dataset/train/dogs/dog_268.jpg  \n",
            "  inflating: /usr/local/dataset/train/dogs/dog_269.jpg  \n",
            "  inflating: /usr/local/dataset/train/dogs/dog_270.jpg  \n",
            "  inflating: /usr/local/dataset/train/dogs/dog_272.jpg  \n",
            "  inflating: /usr/local/dataset/train/dogs/dog_273.jpg  \n",
            "  inflating: /usr/local/dataset/train/dogs/dog_277.jpg  \n",
            "  inflating: /usr/local/dataset/train/dogs/dog_281.jpg  \n",
            "  inflating: /usr/local/dataset/train/dogs/dog_286.jpg  \n",
            "  inflating: /usr/local/dataset/train/dogs/dog_287.jpg  \n",
            "  inflating: /usr/local/dataset/train/dogs/dog_29.jpg  \n",
            "  inflating: /usr/local/dataset/train/dogs/dog_290.jpg  \n",
            "  inflating: /usr/local/dataset/train/dogs/dog_291.jpg  \n",
            "  inflating: /usr/local/dataset/train/dogs/dog_292.jpg  \n",
            "  inflating: /usr/local/dataset/train/dogs/dog_293.jpg  \n",
            "  inflating: /usr/local/dataset/train/dogs/dog_294.jpg  \n",
            "  inflating: /usr/local/dataset/train/dogs/dog_295.jpg  \n",
            "  inflating: /usr/local/dataset/train/dogs/dog_296.jpg  \n",
            "  inflating: /usr/local/dataset/train/dogs/dog_298.jpg  \n",
            "  inflating: /usr/local/dataset/train/dogs/dog_299.jpg  \n",
            "  inflating: /usr/local/dataset/train/dogs/dog_3.jpg  \n",
            "  inflating: /usr/local/dataset/train/dogs/dog_30.jpg  \n",
            "  inflating: /usr/local/dataset/train/dogs/dog_301.jpg  \n",
            "  inflating: /usr/local/dataset/train/dogs/dog_305.jpg  \n",
            "  inflating: /usr/local/dataset/train/dogs/dog_306.jpg  \n",
            "  inflating: /usr/local/dataset/train/dogs/dog_31.jpg  \n",
            "  inflating: /usr/local/dataset/train/dogs/dog_315.jpg  \n",
            "  inflating: /usr/local/dataset/train/dogs/dog_317.jpg  \n",
            "  inflating: /usr/local/dataset/train/dogs/dog_318.jpg  \n",
            "  inflating: /usr/local/dataset/train/dogs/dog_32.jpg  \n",
            "  inflating: /usr/local/dataset/train/dogs/dog_320.jpg  \n",
            "  inflating: /usr/local/dataset/train/dogs/dog_321.jpg  \n",
            "  inflating: /usr/local/dataset/train/dogs/dog_322.jpg  \n",
            "  inflating: /usr/local/dataset/train/dogs/dog_323.jpg  \n",
            "  inflating: /usr/local/dataset/train/dogs/dog_324.jpg  \n",
            "  inflating: /usr/local/dataset/train/dogs/dog_325.jpg  \n",
            "  inflating: /usr/local/dataset/train/dogs/dog_33.jpg  \n",
            "  inflating: /usr/local/dataset/train/dogs/dog_331.jpg  \n",
            "  inflating: /usr/local/dataset/train/dogs/dog_332.jpg  \n",
            "  inflating: /usr/local/dataset/train/dogs/dog_333.jpg  \n",
            "  inflating: /usr/local/dataset/train/dogs/dog_334.jpg  \n",
            "  inflating: /usr/local/dataset/train/dogs/dog_335.jpg  \n",
            "  inflating: /usr/local/dataset/train/dogs/dog_337.jpg  \n",
            "  inflating: /usr/local/dataset/train/dogs/dog_338.jpg  \n",
            "  inflating: /usr/local/dataset/train/dogs/dog_341.jpg  \n",
            "  inflating: /usr/local/dataset/train/dogs/dog_342.jpg  \n",
            "  inflating: /usr/local/dataset/train/dogs/dog_343.jpg  \n",
            "  inflating: /usr/local/dataset/train/dogs/dog_345.jpg  \n",
            "  inflating: /usr/local/dataset/train/dogs/dog_347.jpg  \n",
            "  inflating: /usr/local/dataset/train/dogs/dog_349.jpg  \n",
            "  inflating: /usr/local/dataset/train/dogs/dog_35.jpg  \n",
            "  inflating: /usr/local/dataset/train/dogs/dog_350.jpg  \n",
            "  inflating: /usr/local/dataset/train/dogs/dog_351.jpg  \n",
            "  inflating: /usr/local/dataset/train/dogs/dog_358.jpg  \n",
            "  inflating: /usr/local/dataset/train/dogs/dog_359.jpg  \n",
            "  inflating: /usr/local/dataset/train/dogs/dog_361.jpg  \n",
            "  inflating: /usr/local/dataset/train/dogs/dog_363.jpg  \n",
            "  inflating: /usr/local/dataset/train/dogs/dog_365.jpg  \n",
            "  inflating: /usr/local/dataset/train/dogs/dog_367.jpg  \n",
            "  inflating: /usr/local/dataset/train/dogs/dog_368.jpg  \n",
            "  inflating: /usr/local/dataset/train/dogs/dog_37.jpg  \n",
            "  inflating: /usr/local/dataset/train/dogs/dog_371.jpg  \n",
            "  inflating: /usr/local/dataset/train/dogs/dog_375.jpg  \n",
            "  inflating: /usr/local/dataset/train/dogs/dog_376.jpg  \n",
            "  inflating: /usr/local/dataset/train/dogs/dog_378.jpg  \n",
            "  inflating: /usr/local/dataset/train/dogs/dog_381.jpg  \n",
            "  inflating: /usr/local/dataset/train/dogs/dog_389.jpg  \n",
            "  inflating: /usr/local/dataset/train/dogs/dog_39.jpg  \n",
            "  inflating: /usr/local/dataset/train/dogs/dog_391.jpg  \n",
            "  inflating: /usr/local/dataset/train/dogs/dog_392.jpg  \n",
            "  inflating: /usr/local/dataset/train/dogs/dog_393.jpg  \n",
            "  inflating: /usr/local/dataset/train/dogs/dog_4.jpg  \n",
            "  inflating: /usr/local/dataset/train/dogs/dog_401.jpg  \n",
            "  inflating: /usr/local/dataset/train/dogs/dog_402.jpg  \n",
            "  inflating: /usr/local/dataset/train/dogs/dog_403.jpg  \n",
            "  inflating: /usr/local/dataset/train/dogs/dog_404.jpg  \n",
            "  inflating: /usr/local/dataset/train/dogs/dog_405.jpg  \n",
            "  inflating: /usr/local/dataset/train/dogs/dog_407.jpg  \n",
            "  inflating: /usr/local/dataset/train/dogs/dog_408.jpg  \n",
            "  inflating: /usr/local/dataset/train/dogs/dog_409.jpg  \n",
            "  inflating: /usr/local/dataset/train/dogs/dog_412.jpg  \n",
            "  inflating: /usr/local/dataset/train/dogs/dog_414.jpg  \n",
            "  inflating: /usr/local/dataset/train/dogs/dog_417.jpg  \n",
            "  inflating: /usr/local/dataset/train/dogs/dog_418.jpg  \n",
            "  inflating: /usr/local/dataset/train/dogs/dog_419.jpg  \n",
            "  inflating: /usr/local/dataset/train/dogs/dog_423.jpg  \n",
            "  inflating: /usr/local/dataset/train/dogs/dog_427.jpg  \n",
            "  inflating: /usr/local/dataset/train/dogs/dog_428.jpg  \n",
            "  inflating: /usr/local/dataset/train/dogs/dog_429.jpg  \n",
            "  inflating: /usr/local/dataset/train/dogs/dog_432.jpg  \n",
            "  inflating: /usr/local/dataset/train/dogs/dog_433.jpg  \n",
            "  inflating: /usr/local/dataset/train/dogs/dog_435.jpg  \n",
            "  inflating: /usr/local/dataset/train/dogs/dog_436.jpg  \n",
            "  inflating: /usr/local/dataset/train/dogs/dog_437.jpg  \n",
            "  inflating: /usr/local/dataset/train/dogs/dog_438.jpg  \n",
            "  inflating: /usr/local/dataset/train/dogs/dog_440.jpg  \n",
            "  inflating: /usr/local/dataset/train/dogs/dog_441.jpg  \n",
            "  inflating: /usr/local/dataset/train/dogs/dog_444.jpg  \n",
            "  inflating: /usr/local/dataset/train/dogs/dog_445.jpg  \n",
            "  inflating: /usr/local/dataset/train/dogs/dog_446.jpg  \n",
            "  inflating: /usr/local/dataset/train/dogs/dog_447.jpg  \n",
            "  inflating: /usr/local/dataset/train/dogs/dog_448.jpg  \n",
            "  inflating: /usr/local/dataset/train/dogs/dog_45.jpg  \n",
            "  inflating: /usr/local/dataset/train/dogs/dog_450.jpg  \n",
            "  inflating: /usr/local/dataset/train/dogs/dog_451.jpg  \n",
            "  inflating: /usr/local/dataset/train/dogs/dog_452.jpg  \n",
            "  inflating: /usr/local/dataset/train/dogs/dog_458.jpg  \n",
            "  inflating: /usr/local/dataset/train/dogs/dog_466.jpg  \n",
            "  inflating: /usr/local/dataset/train/dogs/dog_468.jpg  \n",
            "  inflating: /usr/local/dataset/train/dogs/dog_47.jpg  \n",
            "  inflating: /usr/local/dataset/train/dogs/dog_471.jpg  \n",
            "  inflating: /usr/local/dataset/train/dogs/dog_473.jpg  \n",
            "  inflating: /usr/local/dataset/train/dogs/dog_474.jpg  \n",
            "  inflating: /usr/local/dataset/train/dogs/dog_475.jpg  \n",
            "  inflating: /usr/local/dataset/train/dogs/dog_478.jpg  \n",
            "  inflating: /usr/local/dataset/train/dogs/dog_479.jpg  \n",
            "  inflating: /usr/local/dataset/train/dogs/dog_480.jpg  \n",
            "  inflating: /usr/local/dataset/train/dogs/dog_483.jpg  \n",
            "  inflating: /usr/local/dataset/train/dogs/dog_484.jpg  \n",
            "  inflating: /usr/local/dataset/train/dogs/dog_485.jpg  \n",
            "  inflating: /usr/local/dataset/train/dogs/dog_487.jpg  \n",
            "  inflating: /usr/local/dataset/train/dogs/dog_489.jpg  \n",
            "  inflating: /usr/local/dataset/train/dogs/dog_490.jpg  \n",
            "  inflating: /usr/local/dataset/train/dogs/dog_492.jpg  \n",
            "  inflating: /usr/local/dataset/train/dogs/dog_494.jpg  \n",
            "  inflating: /usr/local/dataset/train/dogs/dog_496.jpg  \n",
            "  inflating: /usr/local/dataset/train/dogs/dog_50.jpg  \n",
            "  inflating: /usr/local/dataset/train/dogs/dog_501.jpg  \n",
            "  inflating: /usr/local/dataset/train/dogs/dog_502.jpg  \n",
            "  inflating: /usr/local/dataset/train/dogs/dog_504.jpg  \n",
            "  inflating: /usr/local/dataset/train/dogs/dog_505.jpg  \n",
            "  inflating: /usr/local/dataset/train/dogs/dog_509.jpg  \n",
            "  inflating: /usr/local/dataset/train/dogs/dog_51.jpg  \n",
            "  inflating: /usr/local/dataset/train/dogs/dog_512.jpg  \n",
            "  inflating: /usr/local/dataset/train/dogs/dog_513.jpg  \n",
            "  inflating: /usr/local/dataset/train/dogs/dog_514.jpg  \n",
            "  inflating: /usr/local/dataset/train/dogs/dog_523.jpg  \n",
            "  inflating: /usr/local/dataset/train/dogs/dog_525.jpg  \n",
            "  inflating: /usr/local/dataset/train/dogs/dog_529.jpg  \n",
            "  inflating: /usr/local/dataset/train/dogs/dog_532.jpg  \n",
            "  inflating: /usr/local/dataset/train/dogs/dog_533.jpg  \n",
            "  inflating: /usr/local/dataset/train/dogs/dog_535.jpg  \n",
            "  inflating: /usr/local/dataset/train/dogs/dog_54.jpg  \n",
            "  inflating: /usr/local/dataset/train/dogs/dog_540.jpg  \n",
            "  inflating: /usr/local/dataset/train/dogs/dog_541.jpg  \n",
            "  inflating: /usr/local/dataset/train/dogs/dog_543.jpg  \n",
            "  inflating: /usr/local/dataset/train/dogs/dog_545.jpg  \n",
            "  inflating: /usr/local/dataset/train/dogs/dog_546.jpg  \n",
            "  inflating: /usr/local/dataset/train/dogs/dog_549.jpg  \n",
            "  inflating: /usr/local/dataset/train/dogs/dog_550.jpg  \n",
            "  inflating: /usr/local/dataset/train/dogs/dog_552.jpg  \n",
            "  inflating: /usr/local/dataset/train/dogs/dog_553.jpg  \n",
            "  inflating: /usr/local/dataset/train/dogs/dog_554.jpg  \n",
            "  inflating: /usr/local/dataset/train/dogs/dog_556.jpg  \n",
            "  inflating: /usr/local/dataset/train/dogs/dog_558.jpg  \n",
            "  inflating: /usr/local/dataset/train/dogs/dog_559.jpg  \n",
            "  inflating: /usr/local/dataset/train/dogs/dog_56.jpg  \n",
            "  inflating: /usr/local/dataset/train/dogs/dog_560.jpg  \n",
            "  inflating: /usr/local/dataset/train/dogs/dog_564.jpg  \n",
            "  inflating: /usr/local/dataset/train/dogs/dog_566.jpg  \n",
            "  inflating: /usr/local/dataset/train/dogs/dog_57.jpg  \n",
            "  inflating: /usr/local/dataset/train/dogs/dog_570.jpg  \n",
            "  inflating: /usr/local/dataset/train/dogs/dog_571.jpg  \n",
            "  inflating: /usr/local/dataset/train/dogs/dog_572.jpg  \n",
            "  inflating: /usr/local/dataset/train/dogs/dog_576.jpg  \n",
            "  inflating: /usr/local/dataset/train/dogs/dog_579.jpg  \n",
            "  inflating: /usr/local/dataset/train/dogs/dog_580.jpg  \n",
            "  inflating: /usr/local/dataset/train/dogs/dog_582.jpg  \n",
            "  inflating: /usr/local/dataset/train/dogs/dog_583.jpg  \n",
            "  inflating: /usr/local/dataset/train/dogs/dog_589.jpg  \n",
            "  inflating: /usr/local/dataset/train/dogs/dog_591.jpg  \n",
            "  inflating: /usr/local/dataset/train/dogs/dog_596.jpg  \n",
            "  inflating: /usr/local/dataset/train/dogs/dog_62.jpg  \n",
            "  inflating: /usr/local/dataset/train/dogs/dog_67.jpg  \n",
            "  inflating: /usr/local/dataset/train/dogs/dog_69.jpg  \n",
            "  inflating: /usr/local/dataset/train/dogs/dog_7.jpg  \n",
            "  inflating: /usr/local/dataset/train/dogs/dog_70.jpg  \n",
            "  inflating: /usr/local/dataset/train/dogs/dog_72.jpg  \n",
            "  inflating: /usr/local/dataset/train/dogs/dog_74.jpg  \n",
            "  inflating: /usr/local/dataset/train/dogs/dog_76.jpg  \n",
            "  inflating: /usr/local/dataset/train/dogs/dog_77.jpg  \n",
            "  inflating: /usr/local/dataset/train/dogs/dog_78.jpg  \n",
            "  inflating: /usr/local/dataset/train/dogs/dog_8.jpg  \n",
            "  inflating: /usr/local/dataset/train/dogs/dog_80.jpg  \n",
            "  inflating: /usr/local/dataset/train/dogs/dog_82.jpg  \n",
            "  inflating: /usr/local/dataset/train/dogs/dog_84.jpg  \n",
            "  inflating: /usr/local/dataset/train/dogs/dog_85.jpg  \n",
            "  inflating: /usr/local/dataset/train/dogs/dog_86.jpg  \n",
            "  inflating: /usr/local/dataset/train/dogs/dog_9.jpg  \n",
            "  inflating: /usr/local/dataset/train/dogs/dog_90.jpg  \n",
            "  inflating: /usr/local/dataset/train/dogs/dog_92.jpg  \n",
            "  inflating: /usr/local/dataset/train/dogs/dog_93.jpg  \n",
            "  inflating: /usr/local/dataset/train/dogs/dog_97.jpg  \n",
            "  inflating: /usr/local/dataset/train/dogs/dog_98.jpg  \n",
            "  inflating: /usr/local/dataset/train/dogs/dog_99.jpg  \n"
          ]
        }
      ]
    },
    {
      "cell_type": "code",
      "source": [
        "training_set1 = train_datagen1.flow_from_directory('/usr/local/dataset/train', target_size = (64, 64), batch_size = 32, class_mode = 'binary')"
      ],
      "metadata": {
        "id": "8IuU3TetxVaf",
        "colab": {
          "base_uri": "https://localhost:8080/"
        },
        "collapsed": true,
        "outputId": "04e559c4-0910-4aff-b982-215479707fed"
      },
      "execution_count": null,
      "outputs": [
        {
          "output_type": "stream",
          "name": "stdout",
          "text": [
            "Found 557 images belonging to 2 classes.\n"
          ]
        }
      ]
    },
    {
      "cell_type": "code",
      "source": [
        "test_datagen1 = ImageDataGenerator(rescale=1./255)"
      ],
      "metadata": {
        "id": "5JOoeJSC03Gz"
      },
      "execution_count": null,
      "outputs": []
    },
    {
      "cell_type": "code",
      "source": [
        "test_set1 = test_datagen1.flow_from_directory('/usr/local/dataset/test', target_size = (64, 64), batch_size = 32, class_mode = 'binary')"
      ],
      "metadata": {
        "id": "z69NsPDr0wLY",
        "colab": {
          "base_uri": "https://localhost:8080/"
        },
        "collapsed": true,
        "outputId": "60302913-f5cd-429c-bdd7-5003967e6834"
      },
      "execution_count": null,
      "outputs": [
        {
          "output_type": "stream",
          "name": "stdout",
          "text": [
            "Found 140 images belonging to 2 classes.\n"
          ]
        }
      ]
    },
    {
      "cell_type": "code",
      "source": [
        "cnn1 = tf.keras.models.Sequential()"
      ],
      "metadata": {
        "id": "qVlb9zjv1Ok8"
      },
      "execution_count": null,
      "outputs": []
    },
    {
      "cell_type": "code",
      "source": [
        "cnn1.add(tf.keras.layers.Conv2D(filters=32,kernel_size=3,activation='relu',input_shape=[64,64,3]))"
      ],
      "metadata": {
        "id": "aSTlAIY51W1R",
        "colab": {
          "base_uri": "https://localhost:8080/"
        },
        "collapsed": true,
        "outputId": "99ffaf23-9a8f-4ae5-c03f-b1f803973bcf"
      },
      "execution_count": null,
      "outputs": [
        {
          "output_type": "stream",
          "name": "stderr",
          "text": [
            "/usr/local/lib/python3.11/dist-packages/keras/src/layers/convolutional/base_conv.py:107: UserWarning: Do not pass an `input_shape`/`input_dim` argument to a layer. When using Sequential models, prefer using an `Input(shape)` object as the first layer in the model instead.\n",
            "  super().__init__(activity_regularizer=activity_regularizer, **kwargs)\n"
          ]
        }
      ]
    },
    {
      "cell_type": "code",
      "source": [
        "cnn1.add(tf.keras.layers.MaxPool2D(pool_size=2,strides=2))"
      ],
      "metadata": {
        "id": "Y1HvugHH1qIU"
      },
      "execution_count": null,
      "outputs": []
    },
    {
      "cell_type": "code",
      "source": [
        "cnn1.add(tf.keras.layers.Conv2D(filters=32,kernel_size=3,activation='relu'))"
      ],
      "metadata": {
        "id": "WtUvl1jH13vl"
      },
      "execution_count": null,
      "outputs": []
    },
    {
      "cell_type": "code",
      "source": [
        "cnn1.add(tf.keras.layers.MaxPool2D(pool_size=2,strides=2))"
      ],
      "metadata": {
        "id": "7xBNeWLd2DZA"
      },
      "execution_count": null,
      "outputs": []
    },
    {
      "cell_type": "code",
      "source": [
        "cnn1.add(tf.keras.layers.Flatten())"
      ],
      "metadata": {
        "id": "3r5A8tjl2HAp"
      },
      "execution_count": null,
      "outputs": []
    },
    {
      "cell_type": "code",
      "source": [
        "cnn1.add(tf.keras.layers.Dense(units=128,activation='relu'))"
      ],
      "metadata": {
        "id": "Mh1LunvS2QDk"
      },
      "execution_count": null,
      "outputs": []
    },
    {
      "cell_type": "code",
      "source": [
        "cnn1.add(tf.keras.layers.Dense(units=1,activation='sigmoid'))"
      ],
      "metadata": {
        "id": "VFMQ0p4B2bkl"
      },
      "execution_count": null,
      "outputs": []
    },
    {
      "cell_type": "code",
      "source": [
        "cnn1.compile(optimizer='adam',loss='binary_crossentropy',metrics=['accuracy'])"
      ],
      "metadata": {
        "id": "YS_ArOa32mqs"
      },
      "execution_count": null,
      "outputs": []
    },
    {
      "cell_type": "code",
      "source": [
        "cnn1.fit(x=training_set1,validation_data=test_set1,epochs=25)"
      ],
      "metadata": {
        "id": "9Zk29oNW2tyI",
        "colab": {
          "base_uri": "https://localhost:8080/"
        },
        "collapsed": true,
        "outputId": "08278cd7-2814-4093-da58-7cadc26117e2"
      },
      "execution_count": null,
      "outputs": [
        {
          "output_type": "stream",
          "name": "stderr",
          "text": [
            "/usr/local/lib/python3.11/dist-packages/keras/src/trainers/data_adapters/py_dataset_adapter.py:121: UserWarning: Your `PyDataset` class should call `super().__init__(**kwargs)` in its constructor. `**kwargs` can include `workers`, `use_multiprocessing`, `max_queue_size`. Do not pass these arguments to `fit()`, as they will be ignored.\n",
            "  self._warn_if_super_not_called()\n"
          ]
        },
        {
          "output_type": "stream",
          "name": "stdout",
          "text": [
            "Epoch 1/25\n",
            "\u001b[1m18/18\u001b[0m \u001b[32m━━━━━━━━━━━━━━━━━━━━\u001b[0m\u001b[37m\u001b[0m \u001b[1m9s\u001b[0m 407ms/step - accuracy: 0.5383 - loss: 0.7649 - val_accuracy: 0.5786 - val_loss: 0.6929\n",
            "Epoch 2/25\n",
            "\u001b[1m18/18\u001b[0m \u001b[32m━━━━━━━━━━━━━━━━━━━━\u001b[0m\u001b[37m\u001b[0m \u001b[1m9s\u001b[0m 485ms/step - accuracy: 0.5204 - loss: 0.6901 - val_accuracy: 0.6071 - val_loss: 0.7031\n",
            "Epoch 3/25\n",
            "\u001b[1m18/18\u001b[0m \u001b[32m━━━━━━━━━━━━━━━━━━━━\u001b[0m\u001b[37m\u001b[0m \u001b[1m9s\u001b[0m 484ms/step - accuracy: 0.6110 - loss: 0.6773 - val_accuracy: 0.4929 - val_loss: 0.7122\n",
            "Epoch 4/25\n",
            "\u001b[1m18/18\u001b[0m \u001b[32m━━━━━━━━━━━━━━━━━━━━\u001b[0m\u001b[37m\u001b[0m \u001b[1m7s\u001b[0m 381ms/step - accuracy: 0.6050 - loss: 0.6645 - val_accuracy: 0.5286 - val_loss: 0.6952\n",
            "Epoch 5/25\n",
            "\u001b[1m18/18\u001b[0m \u001b[32m━━━━━━━━━━━━━━━━━━━━\u001b[0m\u001b[37m\u001b[0m \u001b[1m9s\u001b[0m 525ms/step - accuracy: 0.6036 - loss: 0.6573 - val_accuracy: 0.5429 - val_loss: 0.6847\n",
            "Epoch 6/25\n",
            "\u001b[1m18/18\u001b[0m \u001b[32m━━━━━━━━━━━━━━━━━━━━\u001b[0m\u001b[37m\u001b[0m \u001b[1m7s\u001b[0m 367ms/step - accuracy: 0.6142 - loss: 0.6519 - val_accuracy: 0.6571 - val_loss: 0.6612\n",
            "Epoch 7/25\n",
            "\u001b[1m18/18\u001b[0m \u001b[32m━━━━━━━━━━━━━━━━━━━━\u001b[0m\u001b[37m\u001b[0m \u001b[1m9s\u001b[0m 479ms/step - accuracy: 0.6562 - loss: 0.6202 - val_accuracy: 0.5857 - val_loss: 0.6633\n",
            "Epoch 8/25\n",
            "\u001b[1m18/18\u001b[0m \u001b[32m━━━━━━━━━━━━━━━━━━━━\u001b[0m\u001b[37m\u001b[0m \u001b[1m7s\u001b[0m 383ms/step - accuracy: 0.6734 - loss: 0.6040 - val_accuracy: 0.6286 - val_loss: 0.6473\n",
            "Epoch 9/25\n",
            "\u001b[1m18/18\u001b[0m \u001b[32m━━━━━━━━━━━━━━━━━━━━\u001b[0m\u001b[37m\u001b[0m \u001b[1m9s\u001b[0m 482ms/step - accuracy: 0.6665 - loss: 0.5958 - val_accuracy: 0.6214 - val_loss: 0.6781\n",
            "Epoch 10/25\n",
            "\u001b[1m18/18\u001b[0m \u001b[32m━━━━━━━━━━━━━━━━━━━━\u001b[0m\u001b[37m\u001b[0m \u001b[1m7s\u001b[0m 368ms/step - accuracy: 0.7096 - loss: 0.5571 - val_accuracy: 0.6500 - val_loss: 0.6594\n",
            "Epoch 11/25\n",
            "\u001b[1m18/18\u001b[0m \u001b[32m━━━━━━━━━━━━━━━━━━━━\u001b[0m\u001b[37m\u001b[0m \u001b[1m8s\u001b[0m 455ms/step - accuracy: 0.6500 - loss: 0.6239 - val_accuracy: 0.5357 - val_loss: 0.8082\n",
            "Epoch 12/25\n",
            "\u001b[1m18/18\u001b[0m \u001b[32m━━━━━━━━━━━━━━━━━━━━\u001b[0m\u001b[37m\u001b[0m \u001b[1m9s\u001b[0m 481ms/step - accuracy: 0.6938 - loss: 0.5915 - val_accuracy: 0.5786 - val_loss: 0.7213\n",
            "Epoch 13/25\n",
            "\u001b[1m18/18\u001b[0m \u001b[32m━━━━━━━━━━━━━━━━━━━━\u001b[0m\u001b[37m\u001b[0m \u001b[1m9s\u001b[0m 371ms/step - accuracy: 0.6877 - loss: 0.5379 - val_accuracy: 0.6286 - val_loss: 0.6811\n",
            "Epoch 14/25\n",
            "\u001b[1m18/18\u001b[0m \u001b[32m━━━━━━━━━━━━━━━━━━━━\u001b[0m\u001b[37m\u001b[0m \u001b[1m8s\u001b[0m 469ms/step - accuracy: 0.7678 - loss: 0.4841 - val_accuracy: 0.6643 - val_loss: 0.6412\n",
            "Epoch 15/25\n",
            "\u001b[1m18/18\u001b[0m \u001b[32m━━━━━━━━━━━━━━━━━━━━\u001b[0m\u001b[37m\u001b[0m \u001b[1m7s\u001b[0m 366ms/step - accuracy: 0.7714 - loss: 0.4674 - val_accuracy: 0.6571 - val_loss: 0.6528\n",
            "Epoch 16/25\n",
            "\u001b[1m18/18\u001b[0m \u001b[32m━━━━━━━━━━━━━━━━━━━━\u001b[0m\u001b[37m\u001b[0m \u001b[1m9s\u001b[0m 496ms/step - accuracy: 0.7702 - loss: 0.4871 - val_accuracy: 0.5929 - val_loss: 0.7152\n",
            "Epoch 17/25\n",
            "\u001b[1m18/18\u001b[0m \u001b[32m━━━━━━━━━━━━━━━━━━━━\u001b[0m\u001b[37m\u001b[0m \u001b[1m7s\u001b[0m 391ms/step - accuracy: 0.7611 - loss: 0.4978 - val_accuracy: 0.6857 - val_loss: 0.6913\n",
            "Epoch 18/25\n",
            "\u001b[1m18/18\u001b[0m \u001b[32m━━━━━━━━━━━━━━━━━━━━\u001b[0m\u001b[37m\u001b[0m \u001b[1m8s\u001b[0m 468ms/step - accuracy: 0.7881 - loss: 0.4572 - val_accuracy: 0.6643 - val_loss: 0.6718\n",
            "Epoch 19/25\n",
            "\u001b[1m18/18\u001b[0m \u001b[32m━━━━━━━━━━━━━━━━━━━━\u001b[0m\u001b[37m\u001b[0m \u001b[1m9s\u001b[0m 476ms/step - accuracy: 0.7764 - loss: 0.4258 - val_accuracy: 0.6571 - val_loss: 0.6877\n",
            "Epoch 20/25\n",
            "\u001b[1m18/18\u001b[0m \u001b[32m━━━━━━━━━━━━━━━━━━━━\u001b[0m\u001b[37m\u001b[0m \u001b[1m7s\u001b[0m 400ms/step - accuracy: 0.7816 - loss: 0.4495 - val_accuracy: 0.6571 - val_loss: 0.8919\n",
            "Epoch 21/25\n",
            "\u001b[1m18/18\u001b[0m \u001b[32m━━━━━━━━━━━━━━━━━━━━\u001b[0m\u001b[37m\u001b[0m \u001b[1m8s\u001b[0m 469ms/step - accuracy: 0.8063 - loss: 0.4322 - val_accuracy: 0.6714 - val_loss: 0.6910\n",
            "Epoch 22/25\n",
            "\u001b[1m18/18\u001b[0m \u001b[32m━━━━━━━━━━━━━━━━━━━━\u001b[0m\u001b[37m\u001b[0m \u001b[1m7s\u001b[0m 367ms/step - accuracy: 0.8085 - loss: 0.3654 - val_accuracy: 0.6500 - val_loss: 0.7986\n",
            "Epoch 23/25\n",
            "\u001b[1m18/18\u001b[0m \u001b[32m━━━━━━━━━━━━━━━━━━━━\u001b[0m\u001b[37m\u001b[0m \u001b[1m9s\u001b[0m 481ms/step - accuracy: 0.8522 - loss: 0.3461 - val_accuracy: 0.6714 - val_loss: 0.7893\n",
            "Epoch 24/25\n",
            "\u001b[1m18/18\u001b[0m \u001b[32m━━━━━━━━━━━━━━━━━━━━\u001b[0m\u001b[37m\u001b[0m \u001b[1m8s\u001b[0m 373ms/step - accuracy: 0.8283 - loss: 0.3672 - val_accuracy: 0.6286 - val_loss: 0.7109\n",
            "Epoch 25/25\n",
            "\u001b[1m18/18\u001b[0m \u001b[32m━━━━━━━━━━━━━━━━━━━━\u001b[0m\u001b[37m\u001b[0m \u001b[1m9s\u001b[0m 496ms/step - accuracy: 0.8434 - loss: 0.3605 - val_accuracy: 0.6643 - val_loss: 0.8202\n"
          ]
        },
        {
          "output_type": "execute_result",
          "data": {
            "text/plain": [
              "<keras.src.callbacks.history.History at 0x7e310d5e59d0>"
            ]
          },
          "metadata": {},
          "execution_count": 22
        }
      ]
    },
    {
      "cell_type": "code",
      "source": [
        "import numpy as np"
      ],
      "metadata": {
        "id": "aeqaXzHMocaC"
      },
      "execution_count": null,
      "outputs": []
    },
    {
      "cell_type": "code",
      "source": [
        "from keras.preprocessing import image"
      ],
      "metadata": {
        "id": "ZpRMVJKMofH7"
      },
      "execution_count": null,
      "outputs": []
    },
    {
      "cell_type": "code",
      "source": [
        "test_image1 = image.load_img('/usr/local/dataset/test/cats/cat_1.jpg', target_size=(64,64))"
      ],
      "metadata": {
        "id": "0kL7yfuZoo9b"
      },
      "execution_count": null,
      "outputs": []
    },
    {
      "cell_type": "code",
      "source": [
        "test_image1 = image.img_to_array(test_image1)"
      ],
      "metadata": {
        "id": "TqpqgB_io7iS"
      },
      "execution_count": null,
      "outputs": []
    },
    {
      "cell_type": "code",
      "source": [
        "test_image1 = np.expand_dims(test_image1,axis=0)"
      ],
      "metadata": {
        "id": "S6ideLUQpEIy"
      },
      "execution_count": null,
      "outputs": []
    },
    {
      "cell_type": "code",
      "source": [
        "result1 = cnn1.predict(test_image1)"
      ],
      "metadata": {
        "colab": {
          "base_uri": "https://localhost:8080/"
        },
        "collapsed": true,
        "id": "gIMxVggLpUha",
        "outputId": "930bece9-ac46-42eb-869a-f076a6e5a866"
      },
      "execution_count": null,
      "outputs": [
        {
          "output_type": "stream",
          "name": "stdout",
          "text": [
            "\u001b[1m1/1\u001b[0m \u001b[32m━━━━━━━━━━━━━━━━━━━━\u001b[0m\u001b[37m\u001b[0m \u001b[1m0s\u001b[0m 95ms/step\n"
          ]
        }
      ]
    },
    {
      "cell_type": "code",
      "source": [
        "training_set1.class_indices\n",
        "if result1[0][0] == 1:\n",
        "  prediction = 'Dog'\n",
        "else:\n",
        "    prediction = 'Cat'"
      ],
      "metadata": {
        "id": "bISd6gMwpZ9L"
      },
      "execution_count": null,
      "outputs": []
    },
    {
      "cell_type": "code",
      "source": [
        "print(prediction)"
      ],
      "metadata": {
        "colab": {
          "base_uri": "https://localhost:8080/"
        },
        "collapsed": true,
        "id": "3DPLkUOAud6o",
        "outputId": "47fd702e-d9e9-4882-b4a3-46f878c95d2b"
      },
      "execution_count": null,
      "outputs": [
        {
          "output_type": "stream",
          "name": "stdout",
          "text": [
            "Dog\n"
          ]
        }
      ]
    },
    {
      "cell_type": "code",
      "source": [
        "import matplotlib.pyplot as plt"
      ],
      "metadata": {
        "id": "BO1klucqRPkn"
      },
      "execution_count": null,
      "outputs": []
    },
    {
      "cell_type": "code",
      "source": [
        "plt.imshow(test_image1[0])\n",
        "plt.axis('off')  # Hide axis\n",
        "plt.title(\"Test Image\")\n",
        "plt.show()\n"
      ],
      "metadata": {
        "collapsed": true,
        "id": "x-yMKwWRRxuC"
      },
      "execution_count": null,
      "outputs": []
    },
    {
      "cell_type": "code",
      "source": [
        "plt.figure(figsize=(5, 5))\n",
        "plt.imshow(test_image1[0])\n",
        "plt.axis('off')\n",
        "plt.title(f\"Predicted: {prediction}\", fontsize=14, color=\"red\")\n",
        "plt.show()\n"
      ],
      "metadata": {
        "collapsed": true,
        "id": "YGX97W2JRIjq"
      },
      "execution_count": null,
      "outputs": []
    }
  ]
}